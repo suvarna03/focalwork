{
 "cells": [
  {
   "cell_type": "markdown",
   "id": "e5530dfa",
   "metadata": {},
   "source": [
    "### Problem Statement\n",
    "Write a function to calculate a score for a candidate’s response for an essay type question based on how\n",
    "closely it matches the correct answer.\n",
    "Assume that the function takes two string arguments:\n",
    "Candidate’s response (Response)\n",
    "Correct Answer (CorrectAnswer)\n",
    "The function needs to identify each word in the Candidate’s response that matches with a word in the Correct\n",
    "Answer and assign points based on the following rule:\n",
    "    Numbers - 4 points\n",
    "    Words with more than 7 characters - 3 points\n",
    "    Words with less than 5 characters - 0 points\n",
    "    All other words - 1 point\n",
    "Calculate “Maximum Possible Score” as Sum of points for each word in the Correct Response String\n",
    "Calculate “Points Scored” as Sum of points for each word in the “Candidate Response” that has a match with\n",
    "a word in the Correct Answer string.\n",
    "After calculating both “Maximum Possible Score” and “Points Scored”, the function should return the\n",
    "percentage ratio of the “Points Score” and the “Maximum Possible Score”"
   ]
  },
  {
   "cell_type": "code",
   "execution_count": 1,
   "id": "e14e984e",
   "metadata": {},
   "outputs": [],
   "source": [
    "global corre ## Variable Declaration\n",
    "\n",
    "def cor(list_of_words):##Function to Identify the value of each words and numbers\n",
    "    #declare default values of 'num','great_7','less_great' is 0\n",
    "    num = 0 #Variable to count value of numbers present in string\n",
    "    great_7 = 0 #Variable to count value of characters(length is greater than 7)\n",
    "    less_great = 0 # VAriable to count value of characters(length is between 5-7)\n",
    "    for i in list_of_words: #Itreate over the list\n",
    "            if(i.isdigit()== True):#Check is character belongs to number\n",
    "                num += 4 # if yes then assign 4\n",
    "            else: #If not then\n",
    "                if len(i) > 7: #check length of words are greater than 7 \n",
    "                    great_7 += 3 # if yes then assign value as 3\n",
    "                else: #if no \n",
    "                    if len(i) >= 5 and len(i) <= 7: # check length of words between 5-7\n",
    "                        less_great += 1 #if yes then assign value as 1\n",
    "    corre = num+great_7+less_great #Calculate the total score\n",
    "    return(corre)\n",
    "    \n"
   ]
  },
  {
   "cell_type": "code",
   "execution_count": 6,
   "id": "d61557b1",
   "metadata": {},
   "outputs": [
    {
     "name": "stdout",
     "output_type": "stream",
     "text": [
      "Maximum Possible Scoring 18\n",
      "The Pinted Score (B) is 6.The Precentage Score(B/A %)is 33.33333333333333%\n"
     ]
    }
   ],
   "source": [
    "str1 = \"There are twenty-four hours in a day, 30 days in a month, and 12 months in the calendar year.\"\n",
    "# There = 1 (len is between 5-7)\n",
    "#are = 0 (len less than 5)\n",
    "#twenty-four = 3 (len greater than 7)\n",
    "#hours = 1 (len is between 5-7)\n",
    "#in =0 (len less than 5)\n",
    "#a=0 (len less than 5)\n",
    "#day=0 (len less than 5)\n",
    "#30 = 4 (hold number)\n",
    "#days=0 (len less than 5)\n",
    "#in=0 (len less than 5)\n",
    "#a=0 (len less than 5)\n",
    "#month=1 (len is between 5-7)\n",
    "#and=0 (len less than 5)\n",
    "#12 =4 (hold number)\n",
    "#months =1 (len is between 5-7)\n",
    "#in = 0 (len less than 5) \n",
    "#the=0 (len less than 5)\n",
    "#calender =3 (len greater than 7)\n",
    "#year = 0 (len less than 5)\n",
    "\n",
    "# 1+3+1+4+1+4+1+3 = 18\n",
    "str2 = \"There are Twenty-Four hours in a day. A year has 14 months.\" #Candidate Response\n",
    "# ******************Match Words***************************************\n",
    "# There =1 (len is between 5-7)\n",
    "# are =0 (len less than 5)\n",
    "# twenty_four=3 (len greater than 7)\n",
    "# hours =1(len is between 5-7)\n",
    "# in =0 (len less than 5)\n",
    "# a=0 (len less than 5)\n",
    "# day=0 (len less than 5)\n",
    "# year=0 (len less than 5)\n",
    "# months=1 (len is between 5-7)\n",
    "\n",
    "# 1+3+1+1 = 6\n",
    "#  split() will convert string into list of words\n",
    "# strip() will remove ',','.' from string\n",
    "list1 = [s.strip(',.').lower() for s in str1.split()]\n",
    "list2 = [s.strip(',.').lower() for s in str2.split()]\n",
    "val1=(cor(list1))\n",
    "match = [s for s in list2 if s in list1]\n",
    "val2 = cor(match)\n",
    "\n",
    "print(\"Maximum Possible Scoring\", val1)\n",
    "if (val2/ val1)*100 > 50:\n",
    "    print(\"The Pinted Score (A) is {}.The Precentage Score(B/A %)is {}%\".format(val2,(val2/ val1)*100) )\n",
    "else:\n",
    "    print(\"The Pinted Score (B) is {}.The Precentage Score(B/A %)is {}%\".format(val2,(val2/ val1)*100) )\n",
    "    \n",
    "    \n",
    "\n"
   ]
  }
 ],
 "metadata": {
  "kernelspec": {
   "display_name": "Python 3",
   "language": "python",
   "name": "python3"
  },
  "language_info": {
   "codemirror_mode": {
    "name": "ipython",
    "version": 3
   },
   "file_extension": ".py",
   "mimetype": "text/x-python",
   "name": "python",
   "nbconvert_exporter": "python",
   "pygments_lexer": "ipython3",
   "version": "3.8.8"
  }
 },
 "nbformat": 4,
 "nbformat_minor": 5
}
